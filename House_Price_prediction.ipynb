{
  "nbformat": 4,
  "nbformat_minor": 0,
  "metadata": {
    "colab": {
      "provenance": []
    },
    "kernelspec": {
      "name": "python3",
      "display_name": "Python 3"
    },
    "language_info": {
      "name": "python"
    }
  },
  "cells": [
    {
      "cell_type": "markdown",
      "source": [
        "**Objetivo del Proyecto**\n",
        "\n",
        "Desarrollar un modelo de aprendizaje automático en PySpark para predecir el valor medio de viviendas en California, utilizando técnicas modernas de limpieza, transformación, escalamiento y regresión lineal. El proyecto simula un entorno de big data, lo que lo hace ideal para contextos empresariales de gran volumen."
      ],
      "metadata": {
        "id": "2guMPlk7rtVv"
      }
    },
    {
      "cell_type": "markdown",
      "source": [
        "Tecnologías Utilizadas\n",
        "\n",
        "Lenguaje: Python\n",
        "\n",
        "Framework: PySpark (Spark MLlib)\n",
        "\n",
        "Entorno: Google Colab\n",
        "\n",
        "Librerías clave: pyspark.ml, pandas, matplotlib"
      ],
      "metadata": {
        "id": "YjtfurMMr43c"
      }
    },
    {
      "cell_type": "code",
      "execution_count": 2,
      "metadata": {
        "colab": {
          "base_uri": "https://localhost:8080/"
        },
        "id": "MEiQluQmSwlr",
        "outputId": "3dd11de6-8128-4d08-c597-cd9bee463c25"
      },
      "outputs": [
        {
          "output_type": "stream",
          "name": "stdout",
          "text": [
            "Requirement already satisfied: pyspark in /usr/local/lib/python3.11/dist-packages (3.5.5)\n",
            "Requirement already satisfied: py4j==0.10.9.7 in /usr/local/lib/python3.11/dist-packages (from pyspark) (0.10.9.7)\n"
          ]
        }
      ],
      "source": [
        "!pip install pyspark"
      ]
    },
    {
      "cell_type": "code",
      "source": [
        "from pyspark.sql import SparkSession\n",
        "from pyspark.sql import functions as F\n",
        "from pyspark.sql.functions import col, to_date, month, year, sum, avg, count\n",
        "from pyspark.sql.window import Window\n",
        "from pyspark.sql.functions import datediff, current_date\n",
        "\n",
        "# Initialize Spark session\n",
        "spark = SparkSession.builder.appName(\"HousePricePrediction\").getOrCreate()"
      ],
      "metadata": {
        "id": "WNftiOryS9Im"
      },
      "execution_count": 6,
      "outputs": []
    },
    {
      "cell_type": "code",
      "source": [
        "sales_df = spark.read.csv(\"/content/sample_data/housing.csv\", header=True, inferSchema=True)"
      ],
      "metadata": {
        "id": "kW19pWHFTJ06"
      },
      "execution_count": 7,
      "outputs": []
    },
    {
      "cell_type": "code",
      "source": [
        "sales_df.createOrReplaceTempView(\"sales_data\")\n",
        "sales_df.printSchema()\n",
        "sales_df.show(10)"
      ],
      "metadata": {
        "colab": {
          "base_uri": "https://localhost:8080/"
        },
        "id": "VW975kBgTUKO",
        "outputId": "0dc7c6f9-01b3-45a2-e031-ced0a5c15e6d"
      },
      "execution_count": 8,
      "outputs": [
        {
          "output_type": "stream",
          "name": "stdout",
          "text": [
            "root\n",
            " |-- longitude: double (nullable = true)\n",
            " |-- latitude: double (nullable = true)\n",
            " |-- housing_median_age: double (nullable = true)\n",
            " |-- total_rooms: double (nullable = true)\n",
            " |-- total_bedrooms: double (nullable = true)\n",
            " |-- population: double (nullable = true)\n",
            " |-- households: double (nullable = true)\n",
            " |-- median_income: double (nullable = true)\n",
            " |-- median_house_value: double (nullable = true)\n",
            " |-- ocean_proximity: string (nullable = true)\n",
            "\n",
            "+---------+--------+------------------+-----------+--------------+----------+----------+-------------+------------------+---------------+\n",
            "|longitude|latitude|housing_median_age|total_rooms|total_bedrooms|population|households|median_income|median_house_value|ocean_proximity|\n",
            "+---------+--------+------------------+-----------+--------------+----------+----------+-------------+------------------+---------------+\n",
            "|  -122.23|   37.88|              41.0|      880.0|         129.0|     322.0|     126.0|       8.3252|          452600.0|       NEAR BAY|\n",
            "|  -122.22|   37.86|              21.0|     7099.0|        1106.0|    2401.0|    1138.0|       8.3014|          358500.0|       NEAR BAY|\n",
            "|  -122.24|   37.85|              52.0|     1467.0|         190.0|     496.0|     177.0|       7.2574|          352100.0|       NEAR BAY|\n",
            "|  -122.25|   37.85|              52.0|     1274.0|         235.0|     558.0|     219.0|       5.6431|          341300.0|       NEAR BAY|\n",
            "|  -122.25|   37.85|              52.0|     1627.0|         280.0|     565.0|     259.0|       3.8462|          342200.0|       NEAR BAY|\n",
            "|  -122.25|   37.85|              52.0|      919.0|         213.0|     413.0|     193.0|       4.0368|          269700.0|       NEAR BAY|\n",
            "|  -122.25|   37.84|              52.0|     2535.0|         489.0|    1094.0|     514.0|       3.6591|          299200.0|       NEAR BAY|\n",
            "|  -122.25|   37.84|              52.0|     3104.0|         687.0|    1157.0|     647.0|         3.12|          241400.0|       NEAR BAY|\n",
            "|  -122.26|   37.84|              42.0|     2555.0|         665.0|    1206.0|     595.0|       2.0804|          226700.0|       NEAR BAY|\n",
            "|  -122.25|   37.84|              52.0|     3549.0|         707.0|    1551.0|     714.0|       3.6912|          261100.0|       NEAR BAY|\n",
            "+---------+--------+------------------+-----------+--------------+----------+----------+-------------+------------------+---------------+\n",
            "only showing top 10 rows\n",
            "\n"
          ]
        }
      ]
    },
    {
      "cell_type": "markdown",
      "source": [
        "Carga de Datos:\n",
        "\n",
        "Se importó un archivo CSV con 20,640 registros de propiedades residenciales."
      ],
      "metadata": {
        "id": "swCscWyvsFVN"
      }
    },
    {
      "cell_type": "code",
      "source": [
        "from pyspark.sql.functions import monotonically_increasing_id\n",
        "\n",
        "sales_df = sales_df.withColumn(\"id\", monotonically_increasing_id())\n",
        "sales_df.show(3)\n"
      ],
      "metadata": {
        "colab": {
          "base_uri": "https://localhost:8080/"
        },
        "id": "QV2Qh4r4me0A",
        "outputId": "36235fd6-4491-4748-d45c-cd60e7eab857"
      },
      "execution_count": 11,
      "outputs": [
        {
          "output_type": "stream",
          "name": "stdout",
          "text": [
            "+---------+--------+------------------+-----------+--------------+----------+----------+-------------+------------------+---------------+---+\n",
            "|longitude|latitude|housing_median_age|total_rooms|total_bedrooms|population|households|median_income|median_house_value|ocean_proximity| id|\n",
            "+---------+--------+------------------+-----------+--------------+----------+----------+-------------+------------------+---------------+---+\n",
            "|  -122.23|   37.88|              41.0|      880.0|         129.0|     322.0|     126.0|       8.3252|          452600.0|       NEAR BAY|  0|\n",
            "|  -122.22|   37.86|              21.0|     7099.0|        1106.0|    2401.0|    1138.0|       8.3014|          358500.0|       NEAR BAY|  1|\n",
            "|  -122.24|   37.85|              52.0|     1467.0|         190.0|     496.0|     177.0|       7.2574|          352100.0|       NEAR BAY|  2|\n",
            "+---------+--------+------------------+-----------+--------------+----------+----------+-------------+------------------+---------------+---+\n",
            "only showing top 3 rows\n",
            "\n"
          ]
        }
      ]
    },
    {
      "cell_type": "markdown",
      "source": [
        "Se identificaron y eliminaron los registros con valores nulos.\n",
        "\n",
        "Se añadió una columna id para seguimiento de filas."
      ],
      "metadata": {
        "id": "tF1_ALb2sLVu"
      }
    },
    {
      "cell_type": "code",
      "source": [
        "from pyspark.sql.functions import col\n",
        "\n",
        "# Contar valores nulos por columna\n",
        "sales_df.select([col(c).isNull().cast(\"int\").alias(c) for c in sales_df.columns]).summary(\"count\").show()\n"
      ],
      "metadata": {
        "colab": {
          "base_uri": "https://localhost:8080/"
        },
        "id": "3ReYlqVHUtSE",
        "outputId": "9c4fa7e3-45fd-43d8-8423-c6d64bc45ebd"
      },
      "execution_count": 12,
      "outputs": [
        {
          "output_type": "stream",
          "name": "stdout",
          "text": [
            "+-------+---------+--------+------------------+-----------+--------------+----------+----------+-------------+------------------+---------------+-----+\n",
            "|summary|longitude|latitude|housing_median_age|total_rooms|total_bedrooms|population|households|median_income|median_house_value|ocean_proximity|   id|\n",
            "+-------+---------+--------+------------------+-----------+--------------+----------+----------+-------------+------------------+---------------+-----+\n",
            "|  count|    20640|   20640|             20640|      20640|         20640|     20640|     20640|        20640|             20640|          20640|20640|\n",
            "+-------+---------+--------+------------------+-----------+--------------+----------+----------+-------------+------------------+---------------+-----+\n",
            "\n"
          ]
        }
      ]
    },
    {
      "cell_type": "code",
      "source": [
        "sales_df = sales_df.dropna()"
      ],
      "metadata": {
        "id": "fv-zMubRVHbz"
      },
      "execution_count": 13,
      "outputs": []
    },
    {
      "cell_type": "code",
      "source": [
        "sales_df.printSchema()"
      ],
      "metadata": {
        "colab": {
          "base_uri": "https://localhost:8080/"
        },
        "id": "pujZ9KItVMuC",
        "outputId": "d63de7bc-13eb-4c82-cb3d-70bb1d1cb97a"
      },
      "execution_count": 14,
      "outputs": [
        {
          "output_type": "stream",
          "name": "stdout",
          "text": [
            "root\n",
            " |-- longitude: double (nullable = true)\n",
            " |-- latitude: double (nullable = true)\n",
            " |-- housing_median_age: double (nullable = true)\n",
            " |-- total_rooms: double (nullable = true)\n",
            " |-- total_bedrooms: double (nullable = true)\n",
            " |-- population: double (nullable = true)\n",
            " |-- households: double (nullable = true)\n",
            " |-- median_income: double (nullable = true)\n",
            " |-- median_house_value: double (nullable = true)\n",
            " |-- ocean_proximity: string (nullable = true)\n",
            " |-- id: long (nullable = false)\n",
            "\n"
          ]
        }
      ]
    },
    {
      "cell_type": "code",
      "source": [
        "sales_df.describe([\"total_bedrooms\", \"total_rooms\",\"population\",\"households\"]).show()\n"
      ],
      "metadata": {
        "colab": {
          "base_uri": "https://localhost:8080/"
        },
        "id": "CDesgrv7VOr4",
        "outputId": "5f281ae6-b437-4550-99d5-f32754807218"
      },
      "execution_count": 15,
      "outputs": [
        {
          "output_type": "stream",
          "name": "stdout",
          "text": [
            "+-------+------------------+------------------+------------------+------------------+\n",
            "|summary|    total_bedrooms|       total_rooms|        population|        households|\n",
            "+-------+------------------+------------------+------------------+------------------+\n",
            "|  count|             20433|             20433|             20433|             20433|\n",
            "|   mean| 537.8705525375618|2636.5042333480155|1424.9469485635982|499.43346547251997|\n",
            "| stddev|421.38507007403115| 2185.269566977601|1133.2084897449597| 382.2992258828481|\n",
            "|    min|               1.0|               2.0|               3.0|               1.0|\n",
            "|    max|            6445.0|           39320.0|           35682.0|            6082.0|\n",
            "+-------+------------------+------------------+------------------+------------------+\n",
            "\n"
          ]
        }
      ]
    },
    {
      "cell_type": "code",
      "source": [
        "train_df, test_df = sales_df.randomSplit([0.8, 0.2], seed=42)\n"
      ],
      "metadata": {
        "id": "QA3y-MnVV3X-"
      },
      "execution_count": 17,
      "outputs": []
    },
    {
      "cell_type": "markdown",
      "source": [
        "División del Dataset:\n",
        "\n",
        "Separación en conjuntos de entrenamiento (80%) y prueba (20%)."
      ],
      "metadata": {
        "id": "tBav5LsCsTpF"
      }
    },
    {
      "cell_type": "code",
      "source": [
        "excluded_cols = ['median_house_value', 'id', 'ocean_proximity']\n",
        "numerical_features = [col for col in sales_df.columns if sales_df.schema[col].dataType.simpleString() in ['double', 'int'] and col not in excluded_cols]\n"
      ],
      "metadata": {
        "id": "2Mq2OFGxn5r_"
      },
      "execution_count": 20,
      "outputs": []
    },
    {
      "cell_type": "code",
      "source": [
        "from pyspark.ml.feature import Imputer\n",
        "\n",
        "imputer = Imputer(inputCols=numerical_features, outputCols=[f\"{c}_imputed\" for c in numerical_features])\n",
        "imputer_model = imputer.fit(train_df)\n",
        "train_df = imputer_model.transform(train_df)\n",
        "test_df = imputer_model.transform(test_df)\n",
        "imputed_features = [f\"{c}_imputed\" for c in numerical_features]\n"
      ],
      "metadata": {
        "id": "R1AJiy5rn_Fi"
      },
      "execution_count": 22,
      "outputs": []
    },
    {
      "cell_type": "code",
      "source": [
        "from pyspark.ml.feature import VectorAssembler # Import VectorAssembler\n",
        "\n",
        "num_assembler = VectorAssembler(inputCols=imputed_features, outputCol=\"num_features_vec\")\n",
        "train_df = num_assembler.transform(train_df)\n",
        "test_df = num_assembler.transform(test_df)\n"
      ],
      "metadata": {
        "id": "E5wSalj7oGXh"
      },
      "execution_count": 24,
      "outputs": []
    },
    {
      "cell_type": "markdown",
      "source": [
        "Imputación y Transformación de Variables:\n",
        "\n",
        "Se imputaron valores faltantes usando Imputer.\n",
        "\n",
        "Se ensamblaron y estandarizaron variables numéricas con VectorAssembler y StandardScaler."
      ],
      "metadata": {
        "id": "oh5bc-h8sX6M"
      }
    },
    {
      "cell_type": "code",
      "source": [
        "from pyspark.ml.feature import StandardScaler # Import StandardScaler\n",
        "\n",
        "scaler = StandardScaler(inputCol=\"num_features_vec\", outputCol=\"scaled_num_features\", withMean=True, withStd=True)\n",
        "scaler_model = scaler.fit(train_df)\n",
        "train_df = scaler_model.transform(train_df)\n",
        "test_df = scaler_model.transform(test_df)\n"
      ],
      "metadata": {
        "id": "T4ZtPgYpotW2"
      },
      "execution_count": 26,
      "outputs": []
    },
    {
      "cell_type": "code",
      "source": [
        "from pyspark.ml.feature import StringIndexer # Import the StringIndexer class\n",
        "\n",
        "indexer = StringIndexer(inputCol=\"ocean_proximity\", outputCol=\"ocean_category_index\")\n",
        "indexer_model = indexer.fit(train_df)\n",
        "train_df = indexer_model.transform(train_df)\n",
        "test_df = indexer_model.transform(test_df)\n"
      ],
      "metadata": {
        "id": "s3LBikYTo2IU"
      },
      "execution_count": 28,
      "outputs": []
    },
    {
      "cell_type": "markdown",
      "source": [
        "Codificación de Variables Categóricas:\n",
        "\n",
        "Se indexó la columna ocean_proximity con StringIndexer.\n",
        "\n",
        "Se codificó con OneHotEncoder."
      ],
      "metadata": {
        "id": "VTD0hlE-sgwM"
      }
    },
    {
      "cell_type": "code",
      "source": [
        "from pyspark.ml.feature import OneHotEncoder # Import OneHotEncoder\n",
        "\n",
        "encoder = OneHotEncoder(inputCols=[\"ocean_category_index\"], outputCols=[\"ocean_category_ohe\"])\n",
        "encoder_model = encoder.fit(train_df)\n",
        "train_df = encoder_model.transform(train_df)\n",
        "test_df = encoder_model.transform(test_df)\n"
      ],
      "metadata": {
        "id": "nyHGxzhIo-TW"
      },
      "execution_count": 30,
      "outputs": []
    },
    {
      "cell_type": "code",
      "source": [
        "final_assembler = VectorAssembler(\n",
        "    inputCols=[\"scaled_num_features\", \"ocean_category_ohe\"],\n",
        "    outputCol=\"final_feature_vector\"\n",
        ")\n",
        "train_df = final_assembler.transform(train_df)\n",
        "test_df = final_assembler.transform(test_df)\n"
      ],
      "metadata": {
        "id": "g0BzKgKHpGCs"
      },
      "execution_count": 31,
      "outputs": []
    },
    {
      "cell_type": "markdown",
      "source": [
        "Ensamblaje Final: Combinación de todas las variables preprocesadas en un solo vector de entrada: final_feature_vector."
      ],
      "metadata": {
        "id": "nb2eHoeYsnOs"
      }
    },
    {
      "cell_type": "code",
      "source": [
        "from pyspark.ml.regression import LinearRegression # Import LinearRegression\n",
        "\n",
        "lr = LinearRegression(featuresCol=\"final_feature_vector\", labelCol=\"median_house_value\")\n"
      ],
      "metadata": {
        "id": "1X1hwOTtpOHg"
      },
      "execution_count": 33,
      "outputs": []
    },
    {
      "cell_type": "markdown",
      "source": [
        "Entrenamiento del Modelo: Se utilizó regresión lineal para predecir el valor medio de las casas (median_house_value)."
      ],
      "metadata": {
        "id": "ihPlndhqsrEN"
      }
    },
    {
      "cell_type": "code",
      "source": [
        "lr_model = lr.fit(train_df)\n"
      ],
      "metadata": {
        "id": "2GJBbUmWpPhY"
      },
      "execution_count": 34,
      "outputs": []
    },
    {
      "cell_type": "code",
      "source": [
        "pred_train_df = lr_model.transform(train_df)\n",
        "pred_test_df = lr_model.transform(test_df)\n"
      ],
      "metadata": {
        "id": "JAnuW7TDpWEV"
      },
      "execution_count": 35,
      "outputs": []
    },
    {
      "cell_type": "code",
      "source": [
        "pred_test_pd_df = pred_test_df.select(\"prediction\", \"median_house_value\").toPandas()\n",
        "pred_test_pd_df.head()\n"
      ],
      "metadata": {
        "colab": {
          "base_uri": "https://localhost:8080/",
          "height": 206
        },
        "id": "ULUI23EQpu1s",
        "outputId": "251869ce-ab86-4f98-b06a-acc180c0f806"
      },
      "execution_count": 36,
      "outputs": [
        {
          "output_type": "execute_result",
          "data": {
            "text/plain": [
              "      prediction  median_house_value\n",
              "0  151275.833403            103600.0\n",
              "1  216541.197779            106700.0\n",
              "2  126836.712672             73200.0\n",
              "3  197962.966924             90100.0\n",
              "4  153295.952455             67000.0"
            ],
            "text/html": [
              "\n",
              "  <div id=\"df-8eda0349-4490-4338-b488-63dc502ced46\" class=\"colab-df-container\">\n",
              "    <div>\n",
              "<style scoped>\n",
              "    .dataframe tbody tr th:only-of-type {\n",
              "        vertical-align: middle;\n",
              "    }\n",
              "\n",
              "    .dataframe tbody tr th {\n",
              "        vertical-align: top;\n",
              "    }\n",
              "\n",
              "    .dataframe thead th {\n",
              "        text-align: right;\n",
              "    }\n",
              "</style>\n",
              "<table border=\"1\" class=\"dataframe\">\n",
              "  <thead>\n",
              "    <tr style=\"text-align: right;\">\n",
              "      <th></th>\n",
              "      <th>prediction</th>\n",
              "      <th>median_house_value</th>\n",
              "    </tr>\n",
              "  </thead>\n",
              "  <tbody>\n",
              "    <tr>\n",
              "      <th>0</th>\n",
              "      <td>151275.833403</td>\n",
              "      <td>103600.0</td>\n",
              "    </tr>\n",
              "    <tr>\n",
              "      <th>1</th>\n",
              "      <td>216541.197779</td>\n",
              "      <td>106700.0</td>\n",
              "    </tr>\n",
              "    <tr>\n",
              "      <th>2</th>\n",
              "      <td>126836.712672</td>\n",
              "      <td>73200.0</td>\n",
              "    </tr>\n",
              "    <tr>\n",
              "      <th>3</th>\n",
              "      <td>197962.966924</td>\n",
              "      <td>90100.0</td>\n",
              "    </tr>\n",
              "    <tr>\n",
              "      <th>4</th>\n",
              "      <td>153295.952455</td>\n",
              "      <td>67000.0</td>\n",
              "    </tr>\n",
              "  </tbody>\n",
              "</table>\n",
              "</div>\n",
              "    <div class=\"colab-df-buttons\">\n",
              "\n",
              "  <div class=\"colab-df-container\">\n",
              "    <button class=\"colab-df-convert\" onclick=\"convertToInteractive('df-8eda0349-4490-4338-b488-63dc502ced46')\"\n",
              "            title=\"Convert this dataframe to an interactive table.\"\n",
              "            style=\"display:none;\">\n",
              "\n",
              "  <svg xmlns=\"http://www.w3.org/2000/svg\" height=\"24px\" viewBox=\"0 -960 960 960\">\n",
              "    <path d=\"M120-120v-720h720v720H120Zm60-500h600v-160H180v160Zm220 220h160v-160H400v160Zm0 220h160v-160H400v160ZM180-400h160v-160H180v160Zm440 0h160v-160H620v160ZM180-180h160v-160H180v160Zm440 0h160v-160H620v160Z\"/>\n",
              "  </svg>\n",
              "    </button>\n",
              "\n",
              "  <style>\n",
              "    .colab-df-container {\n",
              "      display:flex;\n",
              "      gap: 12px;\n",
              "    }\n",
              "\n",
              "    .colab-df-convert {\n",
              "      background-color: #E8F0FE;\n",
              "      border: none;\n",
              "      border-radius: 50%;\n",
              "      cursor: pointer;\n",
              "      display: none;\n",
              "      fill: #1967D2;\n",
              "      height: 32px;\n",
              "      padding: 0 0 0 0;\n",
              "      width: 32px;\n",
              "    }\n",
              "\n",
              "    .colab-df-convert:hover {\n",
              "      background-color: #E2EBFA;\n",
              "      box-shadow: 0px 1px 2px rgba(60, 64, 67, 0.3), 0px 1px 3px 1px rgba(60, 64, 67, 0.15);\n",
              "      fill: #174EA6;\n",
              "    }\n",
              "\n",
              "    .colab-df-buttons div {\n",
              "      margin-bottom: 4px;\n",
              "    }\n",
              "\n",
              "    [theme=dark] .colab-df-convert {\n",
              "      background-color: #3B4455;\n",
              "      fill: #D2E3FC;\n",
              "    }\n",
              "\n",
              "    [theme=dark] .colab-df-convert:hover {\n",
              "      background-color: #434B5C;\n",
              "      box-shadow: 0px 1px 3px 1px rgba(0, 0, 0, 0.15);\n",
              "      filter: drop-shadow(0px 1px 2px rgba(0, 0, 0, 0.3));\n",
              "      fill: #FFFFFF;\n",
              "    }\n",
              "  </style>\n",
              "\n",
              "    <script>\n",
              "      const buttonEl =\n",
              "        document.querySelector('#df-8eda0349-4490-4338-b488-63dc502ced46 button.colab-df-convert');\n",
              "      buttonEl.style.display =\n",
              "        google.colab.kernel.accessAllowed ? 'block' : 'none';\n",
              "\n",
              "      async function convertToInteractive(key) {\n",
              "        const element = document.querySelector('#df-8eda0349-4490-4338-b488-63dc502ced46');\n",
              "        const dataTable =\n",
              "          await google.colab.kernel.invokeFunction('convertToInteractive',\n",
              "                                                    [key], {});\n",
              "        if (!dataTable) return;\n",
              "\n",
              "        const docLinkHtml = 'Like what you see? Visit the ' +\n",
              "          '<a target=\"_blank\" href=https://colab.research.google.com/notebooks/data_table.ipynb>data table notebook</a>'\n",
              "          + ' to learn more about interactive tables.';\n",
              "        element.innerHTML = '';\n",
              "        dataTable['output_type'] = 'display_data';\n",
              "        await google.colab.output.renderOutput(dataTable, element);\n",
              "        const docLink = document.createElement('div');\n",
              "        docLink.innerHTML = docLinkHtml;\n",
              "        element.appendChild(docLink);\n",
              "      }\n",
              "    </script>\n",
              "  </div>\n",
              "\n",
              "\n",
              "<div id=\"df-72ac0857-240d-425a-afca-d9f2696adfe0\">\n",
              "  <button class=\"colab-df-quickchart\" onclick=\"quickchart('df-72ac0857-240d-425a-afca-d9f2696adfe0')\"\n",
              "            title=\"Suggest charts\"\n",
              "            style=\"display:none;\">\n",
              "\n",
              "<svg xmlns=\"http://www.w3.org/2000/svg\" height=\"24px\"viewBox=\"0 0 24 24\"\n",
              "     width=\"24px\">\n",
              "    <g>\n",
              "        <path d=\"M19 3H5c-1.1 0-2 .9-2 2v14c0 1.1.9 2 2 2h14c1.1 0 2-.9 2-2V5c0-1.1-.9-2-2-2zM9 17H7v-7h2v7zm4 0h-2V7h2v10zm4 0h-2v-4h2v4z\"/>\n",
              "    </g>\n",
              "</svg>\n",
              "  </button>\n",
              "\n",
              "<style>\n",
              "  .colab-df-quickchart {\n",
              "      --bg-color: #E8F0FE;\n",
              "      --fill-color: #1967D2;\n",
              "      --hover-bg-color: #E2EBFA;\n",
              "      --hover-fill-color: #174EA6;\n",
              "      --disabled-fill-color: #AAA;\n",
              "      --disabled-bg-color: #DDD;\n",
              "  }\n",
              "\n",
              "  [theme=dark] .colab-df-quickchart {\n",
              "      --bg-color: #3B4455;\n",
              "      --fill-color: #D2E3FC;\n",
              "      --hover-bg-color: #434B5C;\n",
              "      --hover-fill-color: #FFFFFF;\n",
              "      --disabled-bg-color: #3B4455;\n",
              "      --disabled-fill-color: #666;\n",
              "  }\n",
              "\n",
              "  .colab-df-quickchart {\n",
              "    background-color: var(--bg-color);\n",
              "    border: none;\n",
              "    border-radius: 50%;\n",
              "    cursor: pointer;\n",
              "    display: none;\n",
              "    fill: var(--fill-color);\n",
              "    height: 32px;\n",
              "    padding: 0;\n",
              "    width: 32px;\n",
              "  }\n",
              "\n",
              "  .colab-df-quickchart:hover {\n",
              "    background-color: var(--hover-bg-color);\n",
              "    box-shadow: 0 1px 2px rgba(60, 64, 67, 0.3), 0 1px 3px 1px rgba(60, 64, 67, 0.15);\n",
              "    fill: var(--button-hover-fill-color);\n",
              "  }\n",
              "\n",
              "  .colab-df-quickchart-complete:disabled,\n",
              "  .colab-df-quickchart-complete:disabled:hover {\n",
              "    background-color: var(--disabled-bg-color);\n",
              "    fill: var(--disabled-fill-color);\n",
              "    box-shadow: none;\n",
              "  }\n",
              "\n",
              "  .colab-df-spinner {\n",
              "    border: 2px solid var(--fill-color);\n",
              "    border-color: transparent;\n",
              "    border-bottom-color: var(--fill-color);\n",
              "    animation:\n",
              "      spin 1s steps(1) infinite;\n",
              "  }\n",
              "\n",
              "  @keyframes spin {\n",
              "    0% {\n",
              "      border-color: transparent;\n",
              "      border-bottom-color: var(--fill-color);\n",
              "      border-left-color: var(--fill-color);\n",
              "    }\n",
              "    20% {\n",
              "      border-color: transparent;\n",
              "      border-left-color: var(--fill-color);\n",
              "      border-top-color: var(--fill-color);\n",
              "    }\n",
              "    30% {\n",
              "      border-color: transparent;\n",
              "      border-left-color: var(--fill-color);\n",
              "      border-top-color: var(--fill-color);\n",
              "      border-right-color: var(--fill-color);\n",
              "    }\n",
              "    40% {\n",
              "      border-color: transparent;\n",
              "      border-right-color: var(--fill-color);\n",
              "      border-top-color: var(--fill-color);\n",
              "    }\n",
              "    60% {\n",
              "      border-color: transparent;\n",
              "      border-right-color: var(--fill-color);\n",
              "    }\n",
              "    80% {\n",
              "      border-color: transparent;\n",
              "      border-right-color: var(--fill-color);\n",
              "      border-bottom-color: var(--fill-color);\n",
              "    }\n",
              "    90% {\n",
              "      border-color: transparent;\n",
              "      border-bottom-color: var(--fill-color);\n",
              "    }\n",
              "  }\n",
              "</style>\n",
              "\n",
              "  <script>\n",
              "    async function quickchart(key) {\n",
              "      const quickchartButtonEl =\n",
              "        document.querySelector('#' + key + ' button');\n",
              "      quickchartButtonEl.disabled = true;  // To prevent multiple clicks.\n",
              "      quickchartButtonEl.classList.add('colab-df-spinner');\n",
              "      try {\n",
              "        const charts = await google.colab.kernel.invokeFunction(\n",
              "            'suggestCharts', [key], {});\n",
              "      } catch (error) {\n",
              "        console.error('Error during call to suggestCharts:', error);\n",
              "      }\n",
              "      quickchartButtonEl.classList.remove('colab-df-spinner');\n",
              "      quickchartButtonEl.classList.add('colab-df-quickchart-complete');\n",
              "    }\n",
              "    (() => {\n",
              "      let quickchartButtonEl =\n",
              "        document.querySelector('#df-72ac0857-240d-425a-afca-d9f2696adfe0 button');\n",
              "      quickchartButtonEl.style.display =\n",
              "        google.colab.kernel.accessAllowed ? 'block' : 'none';\n",
              "    })();\n",
              "  </script>\n",
              "</div>\n",
              "\n",
              "    </div>\n",
              "  </div>\n"
            ],
            "application/vnd.google.colaboratory.intrinsic+json": {
              "type": "dataframe",
              "variable_name": "pred_test_pd_df",
              "summary": "{\n  \"name\": \"pred_test_pd_df\",\n  \"rows\": 4038,\n  \"fields\": [\n    {\n      \"column\": \"prediction\",\n      \"properties\": {\n        \"dtype\": \"number\",\n        \"std\": 92928.91315828949,\n        \"min\": -60070.16790156375,\n        \"max\": 687250.75088949,\n        \"num_unique_values\": 4038,\n        \"samples\": [\n          388717.0480857587,\n          275554.6119079595,\n          178608.44568670192\n        ],\n        \"semantic_type\": \"\",\n        \"description\": \"\"\n      }\n    },\n    {\n      \"column\": \"median_house_value\",\n      \"properties\": {\n        \"dtype\": \"number\",\n        \"std\": 114939.04614239503,\n        \"min\": 17500.0,\n        \"max\": 500001.0,\n        \"num_unique_values\": 2186,\n        \"samples\": [\n          123400.0,\n          367600.0,\n          367400.0\n        ],\n        \"semantic_type\": \"\",\n        \"description\": \"\"\n      }\n    }\n  ]\n}"
            }
          },
          "metadata": {},
          "execution_count": 36
        }
      ]
    },
    {
      "cell_type": "markdown",
      "source": [
        "Evaluación del Modelo:\n",
        "\n",
        "Predicción en datos de entrenamiento y prueba.\n",
        "\n",
        "Conversión a Pandas para visualización."
      ],
      "metadata": {
        "id": "dDUgHIzbsvSN"
      }
    },
    {
      "cell_type": "code",
      "source": [
        "predictions_and_actuals_rdd = pred_test_df.select(\"prediction\", \"median_house_value\").rdd.map(lambda row: (row[0], row[1]))\n"
      ],
      "metadata": {
        "id": "27BCtkizpwiB"
      },
      "execution_count": 37,
      "outputs": []
    },
    {
      "cell_type": "code",
      "source": [
        "from pyspark.ml.evaluation import RegressionEvaluator\n",
        "\n",
        "evaluator = RegressionEvaluator(labelCol=\"median_house_value\", predictionCol=\"prediction\")\n",
        "\n",
        "rmse = evaluator.evaluate(pred_test_df, {evaluator.metricName: \"rmse\"})\n",
        "mae = evaluator.evaluate(pred_test_df, {evaluator.metricName: \"mae\"})\n",
        "r2 = evaluator.evaluate(pred_test_df, {evaluator.metricName: \"r2\"})\n",
        "mse = evaluator.evaluate(pred_test_df, {evaluator.metricName: \"mse\"})\n",
        "\n",
        "print(f\"RMSE: {rmse}\")\n",
        "print(f\"MAE: {mae}\")\n",
        "print(f\"MSE: {mse}\")\n",
        "print(f\"R2: {r2}\")\n"
      ],
      "metadata": {
        "colab": {
          "base_uri": "https://localhost:8080/"
        },
        "id": "pWRyEZ5JpzUg",
        "outputId": "b45c433d-05ad-4611-f6e1-701d0ab39595"
      },
      "execution_count": 39,
      "outputs": [
        {
          "output_type": "stream",
          "name": "stdout",
          "text": [
            "RMSE: 68641.31886229731\n",
            "MAE: 50004.934441645775\n",
            "MSE: 4711630655.155573\n",
            "R2: 0.6432667203304552\n"
          ]
        }
      ]
    },
    {
      "cell_type": "markdown",
      "source": [
        "Resultados Clave:\n",
        "\n",
        "El modelo logró explicar aproximadamente el 64% de la varianza en el valor de las viviendas.\n",
        "\n",
        "El error medio absoluto (MAE) es de 50,000, aceptable para datos inmobiliarios reales.\n",
        "\n",
        "El uso de PySpark permitió escalar fácilmente el pipeline completo para grandes volúmenes de datos."
      ],
      "metadata": {
        "id": "T1o6J0uQs3q-"
      }
    },
    {
      "cell_type": "code",
      "source": [],
      "metadata": {
        "id": "crcmYwy2p2u-"
      },
      "execution_count": null,
      "outputs": []
    },
    {
      "cell_type": "markdown",
      "source": [
        "Lo que demuestra este proyecto\n",
        "\n",
        "Capacidad para construir pipelines de ciencia de datos en PySpark.\n",
        "\n",
        "Experiencia práctica en ingeniería de características, escalamiento y codificación de datos.\n",
        "\n",
        "Sólido conocimiento de evaluación de modelos de regresión.\n",
        "\n",
        "Preparación para roles de Data Analyst / Data Scientist en entornos big data."
      ],
      "metadata": {
        "id": "5Yjqb457s-mt"
      }
    },
    {
      "cell_type": "code",
      "source": [],
      "metadata": {
        "id": "SQXlWVnAtBSU"
      },
      "execution_count": null,
      "outputs": []
    }
  ]
}