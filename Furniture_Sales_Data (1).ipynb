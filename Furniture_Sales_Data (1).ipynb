{
  "nbformat": 4,
  "nbformat_minor": 0,
  "metadata": {
    "colab": {
      "provenance": []
    },
    "kernelspec": {
      "name": "python3",
      "display_name": "Python 3"
    },
    "language_info": {
      "name": "python"
    }
  },
  "cells": [
    {
      "cell_type": "code",
      "execution_count": 3,
      "metadata": {
        "colab": {
          "base_uri": "https://localhost:8080/"
        },
        "id": "OMaSFpw2qu9o",
        "outputId": "13d4bebb-d08b-47d1-d28e-6b850b1013b6"
      },
      "outputs": [
        {
          "output_type": "stream",
          "name": "stdout",
          "text": [
            "Requirement already satisfied: pyspark in /usr/local/lib/python3.11/dist-packages (3.5.5)\n",
            "Requirement already satisfied: py4j==0.10.9.7 in /usr/local/lib/python3.11/dist-packages (from pyspark) (0.10.9.7)\n"
          ]
        }
      ],
      "source": [
        "!pip install pyspark"
      ]
    },
    {
      "cell_type": "code",
      "source": [
        "from pyspark.sql import SparkSession\n",
        "from pyspark.sql import functions as F\n",
        "from pyspark.sql.functions import col, to_date, month, year, sum, avg, count\n",
        "from pyspark.sql.window import Window\n",
        "from pyspark.sql.functions import datediff, current_date\n",
        "\n",
        "# Initialize Spark session\n",
        "spark = SparkSession.builder.appName(\"Retail Sales Data Analysis\").getOrCreate()\n"
      ],
      "metadata": {
        "id": "512R_QjctNnv"
      },
      "execution_count": 21,
      "outputs": []
    },
    {
      "cell_type": "code",
      "source": [
        "sales_df = spark.read.csv(\"/content/sample_data/Furniture_Sales_Data.csv\", header=True, inferSchema=True)\n"
      ],
      "metadata": {
        "id": "NedwlgwqrEvT"
      },
      "execution_count": 4,
      "outputs": []
    },
    {
      "cell_type": "code",
      "source": [
        "sales_df.createOrReplaceTempView(\"sales_data\")\n",
        "sales_df.printSchema()\n",
        "sales_df.show(10)"
      ],
      "metadata": {
        "colab": {
          "base_uri": "https://localhost:8080/"
        },
        "id": "iigOMQkAuCcn",
        "outputId": "df3dc7f2-4276-41d6-c4d7-8369900356bc"
      },
      "execution_count": 5,
      "outputs": [
        {
          "output_type": "stream",
          "name": "stdout",
          "text": [
            "root\n",
            " |-- OrderID: string (nullable = true)\n",
            " |-- CustomerID: string (nullable = true)\n",
            " |-- ProductNames: string (nullable = true)\n",
            " |-- Quantity: integer (nullable = true)\n",
            " |-- Price: double (nullable = true)\n",
            " |-- OrderDate: date (nullable = true)\n",
            " |-- Region: string (nullable = true)\n",
            "\n",
            "+---------+----------+------------+--------+-------+----------+---------+\n",
            "|  OrderID|CustomerID|ProductNames|Quantity|  Price| OrderDate|   Region|\n",
            "+---------+----------+------------+--------+-------+----------+---------+\n",
            "|ORD100000|  CUST9055|   Bookshelf|       2|1865.65|2023-03-12|   France|\n",
            "|ORD100001|  CUST1538|        Sofa|       4|1726.87|2024-03-08|    China|\n",
            "|ORD100002|  CUST6940|Coffee Table|       4| 760.89|2022-06-20|    China|\n",
            "|ORD100003|  CUST1625|     Dresser|       5| 368.03|2023-05-01|   France|\n",
            "|ORD100004|  CUST9204|    TV Stand|       1| 753.76|2023-07-03|    India|\n",
            "|ORD100005|  CUST6897|    Recliner|       2|1042.94|2024-07-17|Australia|\n",
            "|ORD100006|  CUST3475|Coffee Table|       6| 753.17|2022-06-24|    China|\n",
            "|ORD100007|  CUST6039|     Dresser|       8|1989.12|2023-04-19|Australia|\n",
            "|ORD100008|  CUST9930|Coffee Table|       8|  91.61|2023-12-27|  Germany|\n",
            "|ORD100009|  CUST2570|        Sofa|       3|1390.53|2023-03-28|   France|\n",
            "+---------+----------+------------+--------+-------+----------+---------+\n",
            "only showing top 10 rows\n",
            "\n"
          ]
        }
      ]
    },
    {
      "cell_type": "markdown",
      "source": [
        "Dataset schema with field names, data types, and nullability. Key attributes: OrderID, CustomerID, ProductNames, Quantity, Price, OrderDate, and Region.\n",
        "\n",
        "First 10 rows displaying order details, used for initial inspection and data quality checks."
      ],
      "metadata": {
        "id": "li6I8td9WgfD"
      }
    },
    {
      "cell_type": "code",
      "source": [
        "from pyspark.sql.functions import col\n",
        "\n",
        "# Contar valores nulos por columna\n",
        "sales_df.select([col(c).isNull().cast(\"int\").alias(c) for c in sales_df.columns]).summary(\"count\").show()\n"
      ],
      "metadata": {
        "colab": {
          "base_uri": "https://localhost:8080/"
        },
        "id": "-L73-m7Mxl7i",
        "outputId": "dea6676e-ede0-4377-9098-e44a99e6fc49"
      },
      "execution_count": 6,
      "outputs": [
        {
          "output_type": "stream",
          "name": "stdout",
          "text": [
            "+-------+-------+----------+------------+--------+-----+---------+------+\n",
            "|summary|OrderID|CustomerID|ProductNames|Quantity|Price|OrderDate|Region|\n",
            "+-------+-------+----------+------------+--------+-----+---------+------+\n",
            "|  count|   1500|      1500|        1500|    1500| 1500|     1500|  1500|\n",
            "+-------+-------+----------+------------+--------+-----+---------+------+\n",
            "\n"
          ]
        }
      ]
    },
    {
      "cell_type": "markdown",
      "source": [
        "Total count of records for each column: 1,500 entries with no missing values. Ensures data completeness for accurate analysis."
      ],
      "metadata": {
        "id": "BqbDrsoCW4vG"
      }
    },
    {
      "cell_type": "code",
      "source": [
        "sales_df = sales_df.dropna()\n"
      ],
      "metadata": {
        "id": "wEVnEIOlOtgC"
      },
      "execution_count": 7,
      "outputs": []
    },
    {
      "cell_type": "code",
      "source": [
        "sales_df.printSchema()\n"
      ],
      "metadata": {
        "colab": {
          "base_uri": "https://localhost:8080/"
        },
        "id": "v5WDH1D6klSU",
        "outputId": "182eae3e-1355-41f8-e115-a5488612bc60"
      },
      "execution_count": 8,
      "outputs": [
        {
          "output_type": "stream",
          "name": "stdout",
          "text": [
            "root\n",
            " |-- OrderID: string (nullable = true)\n",
            " |-- CustomerID: string (nullable = true)\n",
            " |-- ProductNames: string (nullable = true)\n",
            " |-- Quantity: integer (nullable = true)\n",
            " |-- Price: double (nullable = true)\n",
            " |-- OrderDate: date (nullable = true)\n",
            " |-- Region: string (nullable = true)\n",
            "\n"
          ]
        }
      ]
    },
    {
      "cell_type": "code",
      "source": [
        "# Data Cleaning\n",
        "sales_df = sales_df.dropna() # Drop rows with missing values\n",
        "sales_df = sales_df.withColumn(\"Quantity\", col(\"Quantity\").cast(\"integer\"))\n",
        "sales_df = sales_df.withColumn(\"Price\", col(\"Price\").cast(\"double\"))\n",
        "sales_df = sales_df.withColumn(\"OrderDate\", to_date(col(\"OrderDate\"), \"yyyy-MM-dd\"))\n",
        "sales_df = sales_df.dropDuplicates()\n"
      ],
      "metadata": {
        "id": "y8IcoYBsknEW"
      },
      "execution_count": 9,
      "outputs": []
    },
    {
      "cell_type": "code",
      "source": [
        "sales_df.describe([\"Quantity\", \"Price\"]).show()\n"
      ],
      "metadata": {
        "colab": {
          "base_uri": "https://localhost:8080/"
        },
        "id": "jie1uTolksUU",
        "outputId": "def40729-c408-4193-97b9-156518435961"
      },
      "execution_count": 13,
      "outputs": [
        {
          "output_type": "stream",
          "name": "stdout",
          "text": [
            "+-------+-----------------+------------------+\n",
            "|summary|         Quantity|             Price|\n",
            "+-------+-----------------+------------------+\n",
            "|  count|             1500|              1500|\n",
            "|   mean|5.460666666666667|1037.9930733333313|\n",
            "| stddev|2.877146422513098| 568.0992794641094|\n",
            "|    min|                1|             51.93|\n",
            "|    max|               10|           1999.52|\n",
            "+-------+-----------------+------------------+\n",
            "\n"
          ]
        }
      ]
    },
    {
      "cell_type": "markdown",
      "source": [
        "Mean Quantity: 5.46\n",
        "\n",
        "Mean price: $1,037.99\n",
        "\n",
        "Min-Max Quantity: 1-10\n",
        "\n",
        "Min-Max price: $51.93- $1,999.52\n",
        "\n",
        "Essential for understanding sales distribution and price variations."
      ],
      "metadata": {
        "id": "zjzKS8yHW8uY"
      }
    },
    {
      "cell_type": "code",
      "source": [
        "# 1. Total sales per product\n",
        "total_sales_per_product = sales_df.groupBy(\"ProductNames\").agg(sum(\"Price\").alias(\"TotalSales\")) # Changed \"Product\" to \"ProductNames\"\n",
        "total_sales_per_product.orderBy(col(\"TotalSales\").desc()).show()"
      ],
      "metadata": {
        "id": "0hWU4zunko50",
        "colab": {
          "base_uri": "https://localhost:8080/"
        },
        "outputId": "15f0e1ff-d7ec-46d7-a58f-cfff86d9da60"
      },
      "execution_count": 11,
      "outputs": [
        {
          "output_type": "stream",
          "name": "stdout",
          "text": [
            "+------------+------------------+\n",
            "|ProductNames|        TotalSales|\n",
            "+------------+------------------+\n",
            "|    Recliner|176088.29999999984|\n",
            "|Office Chair|175345.29999999996|\n",
            "|    Wardrobe|163726.85000000003|\n",
            "|Coffee Table|157625.70000000004|\n",
            "|   Bed Frame|152786.90999999997|\n",
            "|Dining Table| 150707.9300000001|\n",
            "|   Bookshelf|          149913.7|\n",
            "|        Sofa|147653.82999999996|\n",
            "|    TV Stand|143703.18000000005|\n",
            "|     Dresser|         139437.91|\n",
            "+------------+------------------+\n",
            "\n"
          ]
        }
      ]
    },
    {
      "cell_type": "markdown",
      "source": [
        "Highest revenue-generating products:\n",
        "\n",
        "Recliner: $176,088.30\n",
        "\n",
        "Office Chair: $175,345.30\n",
        "\n",
        "Wardrobe: $163,726.85\n",
        "\n",
        "Identifies key revenue drivers for business decisions."
      ],
      "metadata": {
        "id": "xIwadtv6YJVH"
      }
    },
    {
      "source": [
        "# 2. Products with the most units sold\n",
        "top_selling_products = sales_df.groupBy(\"ProductNames\").agg(sum(\"Quantity\").alias(\"TotalUnitsSold\"))\n",
        "top_selling_products.orderBy(col(\"TotalUnitsSold\").desc()).show()"
      ],
      "cell_type": "code",
      "metadata": {
        "colab": {
          "base_uri": "https://localhost:8080/"
        },
        "id": "P8qtSaxUNnpW",
        "outputId": "f6632e7d-9b2f-4f6a-a808-872c7cf6d73c"
      },
      "execution_count": 15,
      "outputs": [
        {
          "output_type": "stream",
          "name": "stdout",
          "text": [
            "+------------+--------------+\n",
            "|ProductNames|TotalUnitsSold|\n",
            "+------------+--------------+\n",
            "|Office Chair|           921|\n",
            "|   Bookshelf|           882|\n",
            "|    Wardrobe|           882|\n",
            "|    Recliner|           872|\n",
            "|Coffee Table|           856|\n",
            "|   Bed Frame|           835|\n",
            "|        Sofa|           783|\n",
            "|Dining Table|           744|\n",
            "|    TV Stand|           709|\n",
            "|     Dresser|           707|\n",
            "+------------+--------------+\n",
            "\n"
          ]
        }
      ]
    },
    {
      "cell_type": "markdown",
      "source": [
        "Office Chair – 921 units\n",
        "\n",
        "Bookshelf / Wardrobe – 882 units\n",
        "\n",
        "Recliner – 872 units\n",
        "\n",
        "Crucial for demand forecasting and inventory planning.\n"
      ],
      "metadata": {
        "id": "m8kXz_jlYqF3"
      }
    },
    {
      "cell_type": "code",
      "source": [
        "# 3. Revenue per region\n",
        "revenue_per_region = sales_df.groupBy(\"Region\").agg(sum(\"Price\").alias(\"TotalRevenue\"))\n",
        "revenue_per_region.orderBy(col(\"TotalRevenue\").desc()).show()"
      ],
      "metadata": {
        "colab": {
          "base_uri": "https://localhost:8080/"
        },
        "id": "Nwlqefy8NzsJ",
        "outputId": "26380675-af38-4bef-b7f3-f0864517cd4f"
      },
      "execution_count": 16,
      "outputs": [
        {
          "output_type": "stream",
          "name": "stdout",
          "text": [
            "+---------+------------------+\n",
            "|   Region|      TotalRevenue|\n",
            "+---------+------------------+\n",
            "|    Japan|176477.73999999996|\n",
            "|   Brazil|         163008.67|\n",
            "|Australia|161849.93000000005|\n",
            "|    China|159317.91999999995|\n",
            "|      USA|156733.82000000007|\n",
            "|   France| 155944.9800000001|\n",
            "|   Canada|152472.43000000005|\n",
            "|  Germany|145792.34999999995|\n",
            "|    India|142958.74999999997|\n",
            "|       UK|         142433.02|\n",
            "+---------+------------------+\n",
            "\n"
          ]
        }
      ]
    },
    {
      "cell_type": "markdown",
      "source": [
        "Top revenue-generating regions:\n",
        "\n",
        "Japan – $176,477\n",
        "\n",
        "Brazil – $163,008\n",
        "\n",
        "Australia – $161,849\n",
        "\n",
        "Helps in identifying strong markets and optimizing sales strategies."
      ],
      "metadata": {
        "id": "wD64igSCYwJb"
      }
    },
    {
      "cell_type": "code",
      "source": [
        "# 4. Monthly and yearly sales patterns\n",
        "sales_df = sales_df.withColumn(\"Month\", month(\"OrderDate\"))\n",
        "sales_df = sales_df.withColumn(\"Year\", year(\"OrderDate\"))"
      ],
      "metadata": {
        "id": "XeS8ufBrOCMZ"
      },
      "execution_count": 17,
      "outputs": []
    },
    {
      "cell_type": "code",
      "source": [
        "# 5. Customer segmentation (RFM - Recency, Frequency, Monetary Value)\n",
        "sales_df = sales_df.withColumn(\"TotalValue\", col(\"Quantity\")*col(\"Price\"))\n",
        "customer_rfm = sales_df.groupBy(\"CustomerID\").agg(\n",
        "    F.max(\"OrderDate\").alias(\"Recency\"),\n",
        "    F.count(\"OrderDate\").alias(\"Frequency\"),\n",
        "    F.sum(\"TotalValue\").alias(\"Monetary\")\n",
        ")\n",
        "customer_rfm.show()\n"
      ],
      "metadata": {
        "colab": {
          "base_uri": "https://localhost:8080/"
        },
        "id": "IeOlru6_OHcn",
        "outputId": "bb08acc6-91fb-416b-de0f-fc95cb3efd37"
      },
      "execution_count": 44,
      "outputs": [
        {
          "output_type": "stream",
          "name": "stdout",
          "text": [
            "+----------+----------+---------+------------------+\n",
            "|CustomerID|   Recency|Frequency|          Monetary|\n",
            "+----------+----------+---------+------------------+\n",
            "|  CUST1580|2022-08-02|        1|           1446.38|\n",
            "|  CUST6280|2021-11-26|        1|          17541.72|\n",
            "|  CUST2052|2024-04-11|        1|           5572.42|\n",
            "|  CUST5060|2022-04-06|        1|            6226.6|\n",
            "|  CUST6524|2021-12-05|        1|           10659.7|\n",
            "|  CUST1841|2023-06-10|        1|          10473.54|\n",
            "|  CUST9366|2021-11-05|        1|           5474.28|\n",
            "|  CUST3892|2024-06-19|        2|11104.990000000002|\n",
            "|  CUST4893|2022-01-12|        1|             685.2|\n",
            "|  CUST9014|2022-08-28|        1|1905.4499999999998|\n",
            "|  CUST6602|2021-12-29|        1|370.78999999999996|\n",
            "|  CUST3343|2024-04-20|        1|            756.38|\n",
            "|  CUST3004|2022-10-18|        1|            3086.8|\n",
            "|  CUST9662|2024-03-22|        1|           1854.34|\n",
            "|  CUST8087|2022-12-10|        1|16986.690000000002|\n",
            "|  CUST3789|2023-01-10|        2|14530.079999999998|\n",
            "|  CUST8490|2024-01-03|        1|3465.4500000000003|\n",
            "|  CUST5579|2024-06-16|        1|          14134.14|\n",
            "|  CUST4114|2023-07-17|        2|          11816.24|\n",
            "|  CUST6226|2022-09-20|        1|           6960.12|\n",
            "+----------+----------+---------+------------------+\n",
            "only showing top 20 rows\n",
            "\n"
          ]
        }
      ]
    },
    {
      "cell_type": "markdown",
      "source": [
        "Recency: Last purchase date\n",
        "\n",
        "Frequency: Transactions per customer\n",
        "\n",
        "Monetary: Total spending\n",
        "\n",
        "Useful for customer retention strategies and targeted marketing."
      ],
      "metadata": {
        "id": "j8tO4zOOY3PP"
      }
    },
    {
      "cell_type": "code",
      "source": [
        "# 6. Average order value\n",
        "avg_order_value = sales_df.groupBy(\"OrderID\").agg(sum(\"Price\").alias(\"OrderValue\"))\n",
        "avg_order_value.agg(avg(\"OrderValue\")).show()"
      ],
      "metadata": {
        "colab": {
          "base_uri": "https://localhost:8080/"
        },
        "id": "NcYIbZymPyBl",
        "outputId": "8936190d-f4d2-495c-98ba-f439bb6f5327"
      },
      "execution_count": 30,
      "outputs": [
        {
          "output_type": "stream",
          "name": "stdout",
          "text": [
            "+------------------+\n",
            "|   avg(OrderValue)|\n",
            "+------------------+\n",
            "|1037.9930733333342|\n",
            "+------------------+\n",
            "\n"
          ]
        }
      ]
    },
    {
      "cell_type": "markdown",
      "source": [
        "$1,037.99 per order. Helps in pricing optimization and revenue forecasting."
      ],
      "metadata": {
        "id": "owTKoErHY_5n"
      }
    },
    {
      "cell_type": "code",
      "source": [
        "# 7. Product performance by region\n",
        "product_region_sales = sales_df.groupBy(\"ProductNames\", \"Region\").agg(sum(\"Price\").alias(\"TotalSales\"))\n",
        "product_region_sales.orderBy(\"ProductNames\", \"Region\").show()"
      ],
      "metadata": {
        "colab": {
          "base_uri": "https://localhost:8080/"
        },
        "id": "VjVRPtyyQAA_",
        "outputId": "66f63ef0-13ee-4afb-af66-bd7706f358e4"
      },
      "execution_count": 32,
      "outputs": [
        {
          "output_type": "stream",
          "name": "stdout",
          "text": [
            "+------------+---------+------------------+\n",
            "|ProductNames|   Region|        TotalSales|\n",
            "+------------+---------+------------------+\n",
            "|   Bed Frame|Australia|          16723.84|\n",
            "|   Bed Frame|   Brazil| 9483.230000000001|\n",
            "|   Bed Frame|   Canada|           20650.0|\n",
            "|   Bed Frame|    China|           25551.3|\n",
            "|   Bed Frame|   France|           9950.59|\n",
            "|   Bed Frame|  Germany|          13291.15|\n",
            "|   Bed Frame|    India|14864.009999999998|\n",
            "|   Bed Frame|    Japan|15411.599999999999|\n",
            "|   Bed Frame|       UK|          12690.32|\n",
            "|   Bed Frame|      USA|          14170.87|\n",
            "|   Bookshelf|Australia|12428.220000000001|\n",
            "|   Bookshelf|   Brazil|19935.249999999996|\n",
            "|   Bookshelf|   Canada|14800.149999999998|\n",
            "|   Bookshelf|    China|           9623.79|\n",
            "|   Bookshelf|   France|23912.000000000004|\n",
            "|   Bookshelf|  Germany|14340.610000000002|\n",
            "|   Bookshelf|    India|           4999.28|\n",
            "|   Bookshelf|    Japan|21185.899999999998|\n",
            "|   Bookshelf|       UK|          12969.84|\n",
            "|   Bookshelf|      USA|15718.659999999998|\n",
            "+------------+---------+------------------+\n",
            "only showing top 20 rows\n",
            "\n"
          ]
        }
      ]
    },
    {
      "cell_type": "markdown",
      "source": [
        "Breakdown of total sales per product by region. Supports regional inventory management and market-specific strategies."
      ],
      "metadata": {
        "id": "SPy0qZZwZDaJ"
      }
    },
    {
      "cell_type": "code",
      "source": [
        "# 8. Identify low-performing products\n",
        "low_performing = sales_df.groupBy(\"ProductNames\").agg(sum(\"Quantity\").alias(\"TotalUnitsSold\")).filter(\"TotalUnitsSold < 500\")\n",
        "low_performing.show()"
      ],
      "metadata": {
        "colab": {
          "base_uri": "https://localhost:8080/"
        },
        "id": "nF7iMdnvQOnW",
        "outputId": "71d2b5fd-9703-4bf1-e0f7-b244503ae545"
      },
      "execution_count": 41,
      "outputs": [
        {
          "output_type": "stream",
          "name": "stdout",
          "text": [
            "+------------+--------------+\n",
            "|ProductNames|TotalUnitsSold|\n",
            "+------------+--------------+\n",
            "+------------+--------------+\n",
            "\n"
          ]
        }
      ]
    },
    {
      "cell_type": "markdown",
      "source": [
        "### **Low-Performing Products**  \n",
        "Identifies products with total unit sales below **500** using a threshold-based filtering approach.\n",
        "The query groups sales by `ProductNames`, calculates total units sold, and applies a filter condition (`TotalUnitsSold < 500`).\n",
        "The empty result indicates that all products sold at least **500 units**, meaning no items fall into the low-performance category."
      ],
      "metadata": {
        "id": "y7kmZn59ZY6t"
      }
    },
    {
      "cell_type": "code",
      "source": [
        "# 9. Days with highest sales\n",
        "daily_sales = sales_df.groupBy(\"OrderDate\").agg(sum(\"Price\").alias(\"DailySales\"))\n",
        "daily_sales.orderBy(col(\"DailySales\").desc()).show()\n"
      ],
      "metadata": {
        "colab": {
          "base_uri": "https://localhost:8080/"
        },
        "id": "O_JffxJbQ-eS",
        "outputId": "f777ade2-f6bf-44bf-9919-18dab3a1ae5f"
      },
      "execution_count": 36,
      "outputs": [
        {
          "output_type": "stream",
          "name": "stdout",
          "text": [
            "+----------+------------------+\n",
            "| OrderDate|        DailySales|\n",
            "+----------+------------------+\n",
            "|2024-03-20| 7368.860000000001|\n",
            "|2024-06-02|           7199.34|\n",
            "|2023-11-24|           7183.07|\n",
            "|2021-10-28|           7138.58|\n",
            "|2021-10-27| 7130.210000000001|\n",
            "|2024-01-05|           6228.87|\n",
            "|2021-11-01|           6221.28|\n",
            "|2022-11-23|           5909.39|\n",
            "|2024-08-22|           5738.38|\n",
            "|2022-03-07|           5611.24|\n",
            "|2022-07-03|           5558.91|\n",
            "|2023-05-05|           5479.41|\n",
            "|2022-08-28|           5436.46|\n",
            "|2021-10-18| 5392.509999999999|\n",
            "|2022-03-23|           5248.09|\n",
            "|2024-05-07|           5066.21|\n",
            "|2024-03-14| 5034.299999999999|\n",
            "|2022-04-04| 5031.549999999999|\n",
            "|2022-03-22|           4938.22|\n",
            "|2022-09-04|4904.6900000000005|\n",
            "+----------+------------------+\n",
            "only showing top 20 rows\n",
            "\n"
          ]
        }
      ]
    },
    {
      "cell_type": "markdown",
      "source": [
        "### **Days with Highest Sales**  \n",
        "Aggregates total revenue per day by summing `Price` values for each `OrderDate`, then sorts results in descending order to identify peak sales days.\n",
        "The highest recorded daily sales occurred on March 20, 2024, with $7,368.86 in revenue.\n",
        "\n",
        "The top 20 days all exceed **$4,900**, providing insight into peak demand periods."
      ],
      "metadata": {
        "id": "eVIV5C2cZn9G"
      }
    },
    {
      "cell_type": "code",
      "source": [
        "# 10. Stock level suggestions (simplified example)\n",
        "# Calculate a moving average for the past 30 days (adjust window as needed)\n",
        "w = Window.partitionBy(\"ProductNames\").orderBy(\"OrderDate\").rowsBetween(-30, 0)  # Consider previous 30 days\n",
        "\n",
        "sales_with_moving_average = sales_df.withColumn(\n",
        "    \"MovingAverage\", avg(\"Price\").over(w)\n",
        ")\n",
        "\n",
        "sales_with_moving_average.show()\n"
      ],
      "metadata": {
        "colab": {
          "base_uri": "https://localhost:8080/"
        },
        "id": "5e0-r_ypRsyK",
        "outputId": "fd05a42b-2a33-4f56-9918-5793f77a62d5"
      },
      "execution_count": 43,
      "outputs": [
        {
          "output_type": "stream",
          "name": "stdout",
          "text": [
            "+---------+----------+------------+--------+-------+----------+---------+-----+----+-----------------+------------------+\n",
            "|  OrderID|CustomerID|ProductNames|Quantity|  Price| OrderDate|   Region|Month|Year|       TotalValue|     MovingAverage|\n",
            "+---------+----------+------------+--------+-------+----------+---------+-----+----+-----------------+------------------+\n",
            "|ORD100199|  CUST9624|   Bed Frame|       1|1605.58|2021-10-18|       UK|   10|2021|          1605.58|           1605.58|\n",
            "|ORD100646|  CUST8108|   Bed Frame|       9|1047.21|2021-10-24|Australia|   10|2021|          9424.89|          1326.395|\n",
            "|ORD100685|  CUST3387|   Bed Frame|       2| 1660.6|2021-10-27|       UK|   10|2021|           3321.2|1437.7966666666664|\n",
            "|ORD100948|  CUST7545|   Bed Frame|       4|1516.58|2021-10-31|      USA|   10|2021|          6066.32|1457.4924999999998|\n",
            "|ORD100187|  CUST2068|   Bed Frame|       4|1519.16|2021-11-03|    India|   11|2021|          6076.64|1469.8259999999998|\n",
            "|ORD100242|  CUST2981|   Bed Frame|      10| 451.08|2021-11-12|Australia|   11|2021|           4510.8|1300.0349999999999|\n",
            "|ORD101486|  CUST5488|   Bed Frame|       4| 244.37|2021-11-16|Australia|   11|2021|           977.48| 1149.225714285714|\n",
            "|ORD101049|  CUST6483|   Bed Frame|       4| 500.32|2021-11-28|    Japan|   11|2021|          2001.28|         1068.1125|\n",
            "|ORD100049|  CUST2573|   Bed Frame|       3| 175.79|2021-11-28|    Japan|   11|2021|           527.37| 968.9655555555556|\n",
            "|ORD101189|  CUST8523|   Bed Frame|       3| 285.21|2021-11-28|   Canada|   11|2021|855.6299999999999| 900.5899999999999|\n",
            "|ORD100487|  CUST8659|   Bed Frame|       2|1045.26|2021-12-05|       UK|   12|2021|          2090.52| 913.7418181818182|\n",
            "|ORD100278|  CUST6524|   Bed Frame|      10|1065.97|2021-12-05|   Brazil|   12|2021|          10659.7| 926.4274999999999|\n",
            "|ORD100783|  CUST3024|   Bed Frame|       1|1311.21|2021-12-08|   France|   12|2021|          1311.21| 956.0261538461539|\n",
            "|ORD100884|  CUST7976|   Bed Frame|       2| 1694.2|2021-12-24|       UK|   12|2021|           3388.4|1008.7528571428572|\n",
            "|ORD101231|  CUST3566|   Bed Frame|       5| 224.33|2021-12-27|       UK|   12|2021|          1121.65| 956.4580000000001|\n",
            "|ORD100073|  CUST2119|   Bed Frame|       6|1130.69|2022-01-08|    India|    1|2022|          6784.14| 967.3475000000001|\n",
            "|ORD100944|  CUST6804|   Bed Frame|       7| 1568.8|2022-01-09|    China|    1|2022|          10981.6|1002.7270588235294|\n",
            "|ORD100382|  CUST2204|   Bed Frame|       3|1039.98|2022-02-10|    China|    2|2022|          3119.94|1004.7966666666666|\n",
            "|ORD101025|  CUST1385|   Bed Frame|      10| 528.97|2022-02-20|    China|    2|2022|5289.700000000001| 979.7531578947369|\n",
            "|ORD101455|  CUST8233|   Bed Frame|       5| 431.14|2022-02-23|    India|    2|2022|           2155.7|          952.3225|\n",
            "+---------+----------+------------+--------+-------+----------+---------+-----+----+-----------------+------------------+\n",
            "only showing top 20 rows\n",
            "\n"
          ]
        }
      ]
    },
    {
      "cell_type": "markdown",
      "source": [
        "Analyzing TotalValue and MovingAverage for Bed Frame sales across different regions and time periods provides insights for inventory planning.\n",
        "\n",
        "High Demand Periods: Peaks in TotalValue suggest increased sales activity. For instance, large transactions in October-December 2021 indicate seasonal demand.\n",
        "Moving Average Trends: Helps smooth fluctuations and predict upcoming demand. Lower values in early 2022 suggest a decline, signaling a potential need for stock adjustments.\n",
        "Recommendation: Maintain higher stock levels during Q4 due to historical peak demand. Monitor early-year trends to avoid overstocking and optimize warehouse space."
      ],
      "metadata": {
        "id": "Fo5Z4k_WaJiP"
      }
    },
    {
      "cell_type": "markdown",
      "source": [
        "# Sección nueva"
      ],
      "metadata": {
        "id": "MB8zswrOKmtW"
      }
    }
  ]
}